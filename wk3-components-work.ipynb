{
 "cells": [
  {
   "cell_type": "code",
   "execution_count": 17,
   "id": "4f415a84",
   "metadata": {},
   "outputs": [],
   "source": [
    "import csv\n",
    "import networkx as nx\n",
    "import matplotlib.pyplot as plt\n",
    "import numpy as np\n",
    "from datetime import datetime\n",
    "from itertools import combinations\n",
    "from scipy.cluster.hierarchy import DisjointSet\n",
    "from tqdm import tqdm\n",
    "import itertools\n",
    "\n",
    "%matplotlib inline\n"
   ]
  },
  {
   "cell_type": "markdown",
   "id": "05027896",
   "metadata": {},
   "source": [
    "## Prep code that loads data\n",
    "\n",
    "We will use LesMis, Marvel and G(n,p) networks that we have seen in the first two weeks"
   ]
  },
  {
   "cell_type": "code",
   "execution_count": 2,
   "id": "af67a856",
   "metadata": {},
   "outputs": [
    {
     "name": "stdout",
     "output_type": "stream",
     "text": [
      "total number nodes and edges 77 254\n",
      "average number of edges per node 3.2987012987012987\n",
      "density of the Les Miserables social network 0.08680792891319207\n"
     ]
    }
   ],
   "source": [
    "# load a network of co-occurrences of the characters in Les Miserables by Victor Hugo\n",
    "# See the following two pages about the history and potential issues of Knuth's original version of the dataset\n",
    "# https://github.com/MADStudioNU/lesmiserables-character-network\n",
    "# https://www-cs-faculty.stanford.edu/~knuth/sgb.html\n",
    "lesmis_graph = nx.les_miserables_graph()\n",
    "\n",
    "# print some basic network quantities so that we get a basic understading of this data\n",
    "print('total number nodes and edges', lesmis_graph.number_of_nodes(), lesmis_graph.number_of_edges() ) \n",
    "print ('average number of edges per node', lesmis_graph.number_of_edges()/lesmis_graph.number_of_nodes())\n",
    "print ('density of the Les Miserables social network', nx.density(lesmis_graph))\n",
    "\n",
    "# the wikipedia page of Les Mis contains descriptions of the storyline, main characters\n",
    "# and its overall significance\n",
    "# https://en.wikipedia.org/wiki/Les_Mis%C3%A9rables"
   ]
  },
  {
   "cell_type": "code",
   "execution_count": 3,
   "id": "6777be91",
   "metadata": {},
   "outputs": [],
   "source": [
    "### Marvel Hero data\n",
    "# home page for the data http://syntagmatic.github.io/exposedata/marvel/\n",
    "\n",
    "# borrowing functions and processing from here \n",
    "# https://medium.com/@jmandalihan.msds2023/exploring-the-marvel-universe-through-network-analysis-a-starters-guide-88eb40e85c47\n",
    "# Load data from the CSV file\n",
    "\n",
    "def load_data_from_csv(file_path):\n",
    "    data = []\n",
    "    with open(file_path, newline='') as csvfile:\n",
    "        reader = csv.reader(csvfile)\n",
    "        next(reader)  # Skip the header row\n",
    "        for row in reader:\n",
    "            data.append((row[0], row[1]))\n",
    "    return data\n"
   ]
  },
  {
   "cell_type": "code",
   "execution_count": 4,
   "id": "e885c118",
   "metadata": {},
   "outputs": [
    {
     "data": {
      "text/plain": [
       "574466"
      ]
     },
     "execution_count": 4,
     "metadata": {},
     "output_type": "execute_result"
    }
   ],
   "source": [
    "\n",
    "\n",
    "# download this file http://syntagmatic.github.io/exposedata/marvel/data/hero-network.csv\n",
    "# CHANGE THE NEXT LINE TO YOUR FILE PATH\n",
    "marvel_hero_file = './graph-dataset/hero-network.csv'\n",
    "raw_data = load_data_from_csv(marvel_hero_file)\n",
    "\n",
    "len(raw_data)"
   ]
  },
  {
   "cell_type": "code",
   "execution_count": 5,
   "id": "c711a31a",
   "metadata": {},
   "outputs": [
    {
     "name": "stdout",
     "output_type": "stream",
     "text": [
      "total number nodes and edges 6426 167219\n",
      "average number of edges per node 26.022253345782758\n",
      "density of the Hero social network 0.00810031232553549\n"
     ]
    }
   ],
   "source": [
    "# Create a directed graph\n",
    "hero_graph = nx.Graph()\n",
    "\n",
    "# Add edges from the dataset\n",
    "for edge in raw_data:\n",
    "    hero_graph.add_edge(edge[0], edge[1])\n",
    "    \n",
    "print('total number nodes and edges', hero_graph.number_of_nodes(), hero_graph.number_of_edges() ) \n",
    "print ('average number of edges per node', hero_graph.number_of_edges()/hero_graph.number_of_nodes())\n",
    "print ('density of the Hero social network', nx.density(hero_graph))\n"
   ]
  },
  {
   "cell_type": "code",
   "execution_count": 6,
   "id": "8875e1c6",
   "metadata": {},
   "outputs": [
    {
     "name": "stdout",
     "output_type": "stream",
     "text": [
      "[77]\n",
      "[6408, 9, 7, 2]\n"
     ]
    }
   ],
   "source": [
    "## find the connected components of both graphs\n",
    "\n",
    "lesmis_components = [lesmis_graph.subgraph(c).copy() for c in nx.connected_components(lesmis_graph)] \n",
    "print ([len(c) for c in sorted(lesmis_components, key=len, reverse=True)])\n",
    "\n",
    "\n",
    "hero_components = [hero_graph.subgraph(c).copy() for c in nx.connected_components(hero_graph)] \n",
    "print ([len(c) for c in sorted(hero_components, key=len, reverse=True)])\n"
   ]
  },
  {
   "cell_type": "markdown",
   "id": "b1524561",
   "metadata": {},
   "source": [
    "## Question 1 Components of G(n, p) \n",
    "\n",
    "The goal of this excercise is to generate the k-S figure as shown in Fig 3.18 (b) in the Network Science book. \n",
    "    \n",
    "That is to say, first initialise a graph with $n=1,000$ nodes. Then gradually add edges among these nodes, find the size of the largest component at different values of expected degree `<k>`, and plot it! \n",
    "\n",
    "<!-- <img src=\"http://networksciencebook.com/images/ch-03/figure-3-18.jpg\" width=600/> -->\n",
    "\n",
    "* Starting from $k=0.1$ edges per node, and the corresponding value of $p$, (which will correspond to an average of how many edges per node?), generate G(n, p) using NetworkX built-in function, and then also use NetworkX built-in function to find the connected components. Increment $k$ at $0.1$ (or slightly larger if you are impatient) and do this again and again until you see the shape of Fig 3.18 (b) emerging. \n",
    "  * What is the computational time (in big-O terms) for generating a G(n, p) graph?\n",
    "  * What is an example value of p and average degree k that we should be stopping at? \n",
    "  * If this code was taking a long time to run (and debug), then run it with a much smaller $n$ (say 50) to first check its correctness. \n",
    "\n",
    "* Do this multiple times and plot the result (or key statistics of k vs S) on the same figure. \n",
    "  * Why would one want to run this code multiple times? \n",
    "  \n",
    "* What is an underlying algorithm that you could use to find connected components? (or what do you think is under the hood for `networkx.connected_components`) What is its running time? \n"
   ]
  },
  {
   "cell_type": "code",
   "execution_count": 12,
   "id": "d3e2fcf5",
   "metadata": {},
   "outputs": [
    {
     "name": "stdout",
     "output_type": "stream",
     "text": [
      "0:00:09.315591: run number 0, final k = 3.00 \n",
      "[5, 17, 16, 37, 127, 795, 2026, 2643, 2876, 3265, 3342, 3529, 3571, 3685]\n",
      "0:00:09.168497: run number 1, final k = 3.00 \n",
      "[7, 15, 16, 45, 298, 1253, 2030, 2623, 2952, 3131, 3451, 3517, 3569, 3711]\n",
      "0:00:09.176329: run number 2, final k = 3.00 \n",
      "[6, 12, 27, 76, 129, 1262, 2111, 2567, 2884, 3189, 3376, 3482, 3599, 3681]\n",
      "0:00:09.178160: run number 3, final k = 3.00 \n",
      "[5, 11, 18, 49, 178, 1366, 2120, 2575, 2962, 3233, 3371, 3537, 3591, 3719]\n",
      "0:00:09.192273: run number 4, final k = 3.00 \n",
      "[6, 18, 24, 35, 165, 1446, 1992, 2576, 3045, 3178, 3411, 3538, 3582, 3707]\n"
     ]
    },
    {
     "data": {
      "text/plain": [
       "[<matplotlib.lines.Line2D at 0x140e7ec40>]"
      ]
     },
     "execution_count": 12,
     "metadata": {},
     "output_type": "execute_result"
    },
    {
     "data": {
      "image/png": "[encoded data removed]",
      "text/plain": [
       "<Figure size 640x480 with 1 Axes>"
      ]
     },
     "metadata": {},
     "output_type": "display_data"
    }
   ],
   "source": [
    "n = 4000 # number of nodes\n",
    "num_rerun = 5 #number of different re-runs \n",
    "k_init = 0.2       # average degree and its increment\n",
    "k_increment = 0.2 \n",
    "k_max = 3\n",
    "S_sum = np.zeros(int((k_max - k_init)/k_increment) + 1)\n",
    "k_simulated = []\n",
    "for i in range(num_rerun):\n",
    "    tic = datetime.now()\n",
    "    cur_k = k_init\n",
    "    comp_size = []\n",
    "    while cur_k < k_max:\n",
    "        ###################################\n",
    "        \"\"\"\n",
    "           put your code here, append each result at cur_k into the list comp_size\n",
    "        \"\"\"\n",
    "        #generate a raandom graph with n nodees and average degree cur_k\n",
    "        G = nx.erdos_renyi_graph(n, cur_k/n)\n",
    "        #find the largest connected component\n",
    "        result_k = len(max(nx.connected_components(G), key=len))\n",
    "        ###################################\n",
    "        comp_size.append(result_k)\n",
    "        \n",
    "        if i==0:\n",
    "            k_simulated.append(cur_k)\n",
    "        cur_k += k_increment\n",
    "    toc = datetime.now()\n",
    "    print(\"%s: run number %d, final k = %0.2f \" % (toc - tic, i, cur_k) )\n",
    "    print(comp_size)\n",
    "    S_sum += comp_size\n",
    "    \n",
    "\n",
    "\n",
    "# Plotting Routine, no need to change\n",
    "S = S_sum/(num_rerun*n)\n",
    "plt.xlabel(\"$<k>$\")\n",
    "plt.ylabel(\"$S$: Fraction of nodes in the giant component\")\n",
    "plt.plot(k_simulated, S)\n",
    "\n"
   ]
  },
  {
   "cell_type": "markdown",
   "id": "dee8ca28",
   "metadata": {},
   "source": [
    "## Question 2.1 - Making it run faster (part 1)\n",
    "\n",
    "How much time did the code in Q1 took to run (and loop through)? Insert some code to measure its run time on your computer. Write down the aymptotic run time in big-O terms. \n",
    "\n",
    "Let's try speeding it up. \n",
    "\n",
    "First notice that as we loop through different values of $p$, each G(n, p) random graph is generated from scratch. We could do better by letting graphs of a smaller $p$ having a subset of edges of another random graph with a larger $p$, i.e. adding a certain number of edges at a time. \n",
    "* How do we ensure that each of these graphs are still valid G(n, p) \n",
    "* How much run time will this require, in big-O terms? \n",
    "* What additional data do you now need to keep track of? "
   ]
  },
  {
   "cell_type": "code",
   "execution_count": 20,
   "id": "82811f90",
   "metadata": {},
   "outputs": [
    {
     "name": "stdout",
     "output_type": "stream",
     "text": [
      "0:00:03.877503: run number 0, final k = 3.00 \n",
      "0:00:03.792163: run number 1, final k = 3.00 \n",
      "0:00:03.776107: run number 2, final k = 3.00 \n",
      "0:00:03.788364: run number 3, final k = 3.00 \n",
      "0:00:03.797164: run number 4, final k = 3.00 \n"
     ]
    },
    {
     "data": {
      "text/plain": [
       "[<matplotlib.lines.Line2D at 0x14581d1f0>]"
      ]
     },
     "execution_count": 20,
     "metadata": {},
     "output_type": "execute_result"
    },
    {
     "data": {
      "image/png": "[encoded data removed]",
      "text/plain": [
       "<Figure size 640x480 with 1 Axes>"
      ]
     },
     "metadata": {},
     "output_type": "display_data"
    }
   ],
   "source": [
    "\"\"\"\n",
    "1. For every edge generate in p, if it will still present in new graph ?\n",
    "2. for ever edge not generated in p, will it be generated in a new graph.?\n",
    "still n^2\n",
    "\"\"\"\n",
    "\"\"\"\n",
    "1. Calculate current number of edges\n",
    "2. Calculate the expected num of edges in the new graph\n",
    "3. For the different, calculate the probability of the edge being present in the new graph(unconnected nodes)\n",
    "\"\"\"\n",
    "n = 4000\n",
    "k_init = 0.2       # average degree and its increment\n",
    "k_increment = 0.2 \n",
    "#k_max = 1.5*np.log(n) # why do we choose this value of k to stop? \n",
    "k_max = 3\n",
    "num_rerun = 5\n",
    "S_sum = np.zeros(int((k_max - k_init)/k_increment) + 1)\n",
    "k_simulated = []\n",
    "\n",
    "for i in range(num_rerun):\n",
    "    \"\"\"\n",
    "       insert some code here, generate your initial graph and ...\n",
    "    \"\"\"\n",
    "\n",
    "    cur_k = k_init\n",
    "    G = nx.erdos_renyi_graph(n, 0)\n",
    "    comp_size = []\n",
    "    tic = datetime.now()\n",
    "    while cur_k < k_max:\n",
    "        ###################################\n",
    "        \"\"\"\n",
    "           put your code here, append each result at cur_k into the list comp_size\n",
    "        \"\"\"\n",
    "        #modify the graph here\n",
    "        #calculate the current number of edges\n",
    "        cur_edges = G.number_of_edges()\n",
    "        #calculate the expected number of edges\n",
    "        expected_edges = (cur_k*n)/2\n",
    "        #calculate the probability of the edge being present in the new graph\n",
    "        p = expected_edges/((n*(n-1)/2)-cur_edges)\n",
    "        # for every nodes not connected to eachother genrate random edge accoring to p\n",
    "        nodes = list(G.nodes())\n",
    "        for u,v in itertools.combinations(nodes, 2):\n",
    "            if not G.has_edge(u,v):\n",
    "                if np.random.rand() < p:\n",
    "                    G.add_edge(u,v)\n",
    "        \n",
    "        result_k = len(max(nx.connected_components(G), key=len))\n",
    "        ###################################\n",
    "        comp_size.append(result_k)\n",
    "        if i==0:\n",
    "            k_simulated.append(cur_k)\n",
    "        cur_k += k_increment\n",
    "    toc = datetime.now()\n",
    "    print(\"%s: run number %d, final k = %0.2f \" % (toc - tic, i, cur_k) )\n",
    "    S_sum += comp_size\n",
    "\n",
    "# Plotting Routine, no need to change\n",
    "S = S_sum/(num_rerun*n)\n",
    "plt.xlabel(\"$<k>$\")\n",
    "plt.ylabel(\"$S$: Fraction of nodes in the giant component\")\n",
    "plt.plot(k_simulated, S)"
   ]
  },
  {
   "cell_type": "markdown",
   "id": "d5609bba",
   "metadata": {},
   "source": [
    "## Question 2.2 - Making it run faster (part 2)\n",
    "\n",
    "The main idea of the above is to share computation across different random graphs. \n",
    "Can we do this for finding the largest component as well? \n",
    "\n",
    "One idea is to keep track of the components as we add edges, and each edge will either be living entirely within a current component, or merge two current components (is there a third scenario?) \n",
    "\n",
    "* How much run time will this require, in big-O terms? \n",
    "* What additional data do you now need to keep track of? (hint: hash table?) \n",
    "\n",
    "Hint: Check https://en.wikipedia.org/wiki/Disjoint-set_data_structure"
   ]
  },
  {
   "cell_type": "code",
   "execution_count": null,
   "id": "00b799ff",
   "metadata": {},
   "outputs": [],
   "source": [
    "n = 4000\n",
    "k_init = 0.2       # average degree and its increment\n",
    "k_increment = 0.2 \n",
    "k_max = 3\n",
    "num_rerun = 5\n",
    "S_sum = np.zeros(int((k_max - k_init)/k_increment) + 1)\n",
    "k_simulated = []\n",
    "\n",
    "for i in range(num_rerun):\n",
    "    \"\"\"\n",
    "       insert some code here, generate your initial graph and ...\n",
    "    \"\"\"\n",
    "    cur_k = k_init\n",
    "    comp_size = []\n",
    "    tic = datetime.now()\n",
    "    while cur_k < k_max:\n",
    "        ###################################\n",
    "        \"\"\"\n",
    "           put your code here, append each result at cur_k into the list comp_size\n",
    "        \"\"\"\n",
    "        result_k = 0 # Change this\n",
    "        \n",
    "        \n",
    "        ###################################\n",
    "        comp_size.append(result_k)\n",
    "        if i==0:\n",
    "            k_simulated.append(cur_k)\n",
    "        cur_k += k_increment\n",
    "\n",
    "    toc = datetime.now()\n",
    "    print(\"%s: run number %d, final k = %0.2f \" % (toc - tic, i, cur_k) )\n",
    "    S_sum += comp_size\n",
    "\n",
    "# Plotting Routine, no need to change\n",
    "S = S_sum/(num_rerun*n)\n",
    "plt.xlabel(\"$<k>$\")\n",
    "plt.ylabel(\"$S$: Fraction of nodes in the giant component\")\n",
    "h = plt.plot(k_simulated, S)"
   ]
  },
  {
   "cell_type": "markdown",
   "id": "1dfa63b6",
   "metadata": {},
   "source": [
    "## Question 2 \n",
    "\n",
    "Where should the LesMis and Marvel networks sit on your k-S plot above? Can you place each of them there as a point? "
   ]
  },
  {
   "cell_type": "code",
   "execution_count": null,
   "id": "0adcddce",
   "metadata": {},
   "outputs": [],
   "source": [
    "\"\"\"\n",
    "   insert some code to add the two network to the plot generated above\n",
    "   make use of plot handle h\n",
    "\"\"\""
   ]
  },
  {
   "cell_type": "markdown",
   "id": "eee3e244",
   "metadata": {},
   "source": [
    "## Question 3\n",
    "\n",
    "Visualise small components using the built-in function of networkx.\n"
   ]
  },
  {
   "cell_type": "code",
   "execution_count": null,
   "id": "aba50af8",
   "metadata": {},
   "outputs": [],
   "source": [
    "\n",
    "# put your code here "
   ]
  },
  {
   "cell_type": "markdown",
   "id": "fd7668a0",
   "metadata": {},
   "source": [
    "## Question 4 Navigation \n",
    "\n",
    "The goal is to reproduce Figure 20.6 in in the EK book, or Figure 1b in Kleinberg's nature paper\n",
    "\n"
   ]
  },
  {
   "cell_type": "code",
   "execution_count": null,
   "id": "2f46888e",
   "metadata": {},
   "outputs": [],
   "source": [
    "\n",
    "# Construct Graph\n",
    "n = 200\n",
    "G = nx.grid_2d_graph(n, n, periodic=False, create_using=None)\n",
    "nodelist = list(G.nodes())\n",
    "n_rerun = 20\n",
    "r_simulate = np.linspace(0,2.5,5)\n",
    "avg_steps = np.zeros(r_simulate.shape[0])\n",
    "# Source\n",
    "s = (0,0)\n",
    "# Target\n",
    "t = (199,199)\n",
    "for j in tqdm(range(r_simulate.shape[0])):\n",
    "    step_sum = 0\n",
    "    r = r_simulate[j]\n",
    "    print(r)\n",
    "    for i in range(n_rerun):\n",
    "        \n",
    "        cur_node = s\n",
    "        n_steps = 0\n",
    "        while cur_node != t:\n",
    "            # Generate the long-range connection\n",
    "            x, y = zip(*G.nodes)\n",
    "            distance = np.abs(np.array(x) - cur_node[0]) +  np.abs(np.array(y) - cur_node[1])\n",
    "            prob = np.array(1/distance**r)\n",
    "            prob = np.nan_to_num(prob, nan = 0, posinf = 0, neginf = 0)\n",
    "            prob = prob/prob.sum()\n",
    "            chosen = np.random.choice(n*n, p = prob)\n",
    "            chosen_node = nodelist[chosen]\n",
    "            G.add_edge(cur_node, chosen_node)\n",
    "            ###################################\n",
    "            \"\"\"\n",
    "            put your code here \n",
    "\n",
    "            \"\"\"\n",
    "            next_node = cur_node #Change this\n",
    "            \n",
    "            \n",
    "            ###################################\n",
    "            if np.abs(chosen_node[0] - cur_node[0]) + np.abs(chosen_node[1] - cur_node[1]) > 1:\n",
    "                G.remove_edge(cur_node, chosen_node)\n",
    "            cur_node = next_node\n",
    "            n_steps += 1\n",
    "        step_sum += n_steps\n",
    "    avg_steps[j] = step_sum/n_rerun\n",
    "    print(avg_steps[j])\n",
    "    \n",
    "## plotting the graph \n",
    "\"\"\"\n",
    "    Can you write some code to visualise this graph with its 2-D coordinates?\n",
    "    what does it look like for different values of q (or r_simulate in the template code above)\n",
    "\"\"\"\n",
    "\n",
    "\n",
    "## plotting code that generates EK Figure 20.6, no need to change\n",
    "plt.xlabel(\"q\")\n",
    "plt.ylabel(\"logarithm of average number of steps\")\n",
    "plt.plot(r_simulate, np.log(avg_steps))\n",
    "    \n",
    "    \n",
    "        \n"
   ]
  }
 ],
 "metadata": {
  "kernelspec": {
   "display_name": "Python 3 (ipykernel)",
   "language": "python",
   "name": "python3"
  },
  "language_info": {
   "codemirror_mode": {
    "name": "ipython",
    "version": 3
   },
   "file_extension": ".py",
   "mimetype": "text/x-python",
   "name": "python",
   "nbconvert_exporter": "python",
   "pygments_lexer": "ipython3",
   "version": "3.9.13"
  }
 },
 "nbformat": 4,
 "nbformat_minor": 5
}
