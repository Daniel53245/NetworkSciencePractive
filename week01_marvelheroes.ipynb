{
 "cells": [
  {
   "cell_type": "code",
   "execution_count": 1,
   "id": "0cc958ac",
   "metadata": {},
   "outputs": [],
   "source": [
    "## this notebook assumes that you have numpy, matlplotlib and networkx in your python environment\n",
    "## if not, run \"pip install\" or your favorite package manager to install them first\n",
    "\n",
    "import csv\n",
    "import networkx as nx\n",
    "import matplotlib.pyplot as plt\n",
    "import numpy as np\n",
    "\n",
    "%matplotlib inline\n"
   ]
  },
  {
   "cell_type": "code",
   "execution_count": 25,
   "id": "f14475c9",
   "metadata": {},
   "outputs": [],
   "source": [
    "# download this file http://syntagmatic.github.io/exposedata/marvel/data/hero-network.csv\n",
    "# CHANGE THE NEXT LINE TO YOUR FILE PATH\n",
    "marvel_hero_file = './graph-dataset/hero-network.csv'"
   ]
  },
  {
   "cell_type": "code",
   "execution_count": 26,
   "id": "fc207dec",
   "metadata": {},
   "outputs": [],
   "source": [
    "# borrowing functions and processing from here \n",
    "# https://medium.com/@jmandalihan.msds2023/exploring-the-marvel-universe-through-network-analysis-a-starters-guide-88eb40e85c47\n",
    "\n",
    "# Load data from the CSV file\n",
    "\n",
    "def load_data_from_csv(file_path):\n",
    "    data = []\n",
    "    with open(file_path, newline='') as csvfile:\n",
    "        reader = csv.reader(csvfile)\n",
    "        next(reader)  # Skip the header row\n",
    "        for row in reader:\n",
    "            data.append((row[0], row[1]))\n",
    "    return data\n"
   ]
  },
  {
   "cell_type": "code",
   "execution_count": 29,
   "id": "076ae736",
   "metadata": {},
   "outputs": [
    {
     "data": {
      "text/plain": [
       "574466"
      ]
     },
     "execution_count": 29,
     "metadata": {},
     "output_type": "execute_result"
    }
   ],
   "source": [
    "\n",
    "raw_data = load_data_from_csv(marvel_hero_file)\n",
    "\n",
    "len(raw_data)"
   ]
  },
  {
   "cell_type": "code",
   "execution_count": 30,
   "id": "408cc25f",
   "metadata": {},
   "outputs": [
    {
     "name": "stdout",
     "output_type": "stream",
     "text": [
      "total number nodes and edges 6426 167219\n",
      "average number of edges per node 26.022253345782758\n",
      "density of the Hero social network 0.00810031232553549\n"
     ]
    }
   ],
   "source": [
    "# Create an undirected graph\n",
    "hero_graph = nx.Graph()\n",
    "\n",
    "# Add edges from the dataset\n",
    "for edge in raw_data:\n",
    "    hero_graph.add_edge(edge[0], edge[1])\n",
    "    \n",
    "print('total number nodes and edges', hero_graph.number_of_nodes(), hero_graph.number_of_edges() ) \n",
    "print ('average number of edges per node', hero_graph.number_of_edges()/hero_graph.number_of_nodes())\n",
    "print ('density of the Hero social network', nx.density(hero_graph))\n"
   ]
  },
  {
   "cell_type": "code",
   "execution_count": 31,
   "id": "12a539bb",
   "metadata": {},
   "outputs": [
    {
     "name": "stdout",
     "output_type": "stream",
     "text": [
      "total number nodes and edges: 6426 224181\n",
      "average number of edges per node 34.88655462184874\n",
      "density of the Hero social network 0.005429813948925874\n"
     ]
    }
   ],
   "source": [
    "# Create a directed graph\n",
    "hero_di_graph = nx.DiGraph()\n",
    "\n",
    "# Add edges from the dataset\n",
    "for edge in raw_data:\n",
    "    hero_di_graph.add_edge(edge[0], edge[1])\n",
    "    \n",
    "print('total number nodes and edges:', hero_di_graph.number_of_nodes(), hero_di_graph.number_of_edges() ) \n",
    "print ('average number of edges per node', hero_di_graph.number_of_edges()/hero_di_graph.number_of_nodes())\n",
    "print ('density of the Hero social network', nx.density(hero_di_graph))\n",
    "## why is the number of edges smaller than the number of lines in the CSV?"
   ]
  },
  {
   "cell_type": "markdown",
   "id": "82764596",
   "metadata": {},
   "source": [
    "## Question 1\n",
    "\n",
    "NetworkX inbuild adjacency reader can also read this file `graph_from_adj = nx.read_adjlist(marvel_hero_file)`. \n",
    "BUT the outcome is different those from our custom CSV reader. How is it different? What commands/functions from the shell or networkx can you use to expose the differences.\n",
    "\n",
    "What could have caused this discrepancy? \n",
    "Examine the file content, explain the differences, and determine which version you would use? \n"
   ]
  },
  {
   "cell_type": "markdown",
   "id": "be937307",
   "metadata": {},
   "source": [
    "## Question 2\n",
    "\n",
    "Compare how many lines were in the input CSV file, and how many nodes and edges are in either of the networkX graphs. \n",
    "\n",
    "Why is the number of edges of the two graphs different?\n",
    "Why is the number of edges smaller than the number of lines in the CSV?\n",
    "\n",
    "hint: shell commands such as this may provide a hint `sort graph-dataset/hero-network.csv | uniq | wc -l`"
   ]
  },
  {
   "cell_type": "markdown",
   "id": "e6c898e2",
   "metadata": {},
   "source": [
    "Sort: sorts the lines of files and outout in line\n",
    "uniq: remove duplicate lines\n",
    "According to the shell command the unique lines in the csv is 224181 lines,\n",
    "which is the same as the number of edges in the directed graph \n",
    "The undirected graph have less edge may be casuse connections in both way make it differet"
   ]
  },
  {
   "cell_type": "code",
   "execution_count": 22,
   "id": "7fd8eca4",
   "metadata": {},
   "outputs": [
    {
     "name": "stdout",
     "output_type": "stream",
     "text": [
      "[('CAPTAIN AMERICA', 1908), ('SPIDER-MAN/PETER PAR', 1737), ('IRON MAN/TONY STARK ', 1522), ('THING/BENJAMIN J. GR', 1416), ('MR. FANTASTIC/REED R', 1379), ('WOLVERINE/LOGAN ', 1371), ('HUMAN TORCH/JOHNNY S', 1361), ('SCARLET WITCH/WANDA ', 1325), ('THOR/DR. DONALD BLAK', 1289), ('BEAST/HENRY &HANK& P', 1267), ('VISION ', 1241), ('INVISIBLE WOMAN/SUE ', 1236), ('HAWK', 1175), ('WASP/JANET VAN DYNE ', 1091), ('ANT-MAN/DR. HENRY J.', 1082)]\n"
     ]
    }
   ],
   "source": [
    "# Who are the most connected nodes? does this list surprise you\n",
    "\n",
    "degree_tuple = sorted(hero_graph.degree(), key=lambda x: x[1], reverse=True)\n",
    "\n",
    "print(degree_tuple[:15])"
   ]
  },
  {
   "cell_type": "markdown",
   "id": "a6d1ad20",
   "metadata": {},
   "source": [
    "## Question 3\n",
    "\n",
    "Wait ... my favorite hero is Black Panther / Wong / whoever, \n",
    "Write few lines of code that prints the top friends (e.g. top 10 by degree) of any (your favorite) character. "
   ]
  },
  {
   "cell_type": "code",
   "execution_count": 38,
   "id": "a9c6c9fd",
   "metadata": {},
   "outputs": [
    {
     "name": "stdout",
     "output_type": "stream",
     "text": [
      "[('IRON MAN/TONY STARK ', 1522), ('THOR/DR. DONALD BLAK', 1289), ('JARVIS, EDWIN ', 986), (\"BLACK PANTHER/T'CHAL\", 711), ('BINARY/CAROL DANVERS', 537), ('IRON MAN IV/JAMES R.', 465), ('HOGAN, VIRGINIA PEPP', 260), ('JOCASTA', 217), ('FUJIKAWA, RUMIKO', 73), ('MADAME MENACE/SUNSET', 65), ('FIN FANG FOOM/MIDGAR', 62), ('CARNIVORE/COUNT ANDR', 45), ('DECAY II/YOSHIRO HAC', 38), ('TEMPEST II/NICOLETTE', 36), ('INFERNO III/SAMANTHA', 36)]\n"
     ]
    }
   ],
   "source": [
    "# put your code here \n",
    "# Do it on LITTLE, ABNER\n",
    "neighbours_of_ABNER = hero_graph.neighbors('LITTLE, ABNER')\n",
    "degrees = hero_graph.degree(neighbours_of_ABNER)\n",
    "sorted_neighbours = sorted(degrees, key=lambda x: x[1], reverse=True)\n",
    "print(sorted_neighbours[:15])"
   ]
  },
  {
   "cell_type": "markdown",
   "id": "f559732e",
   "metadata": {},
   "source": [
    "## Question 4\n",
    "\n",
    "Who are in the \"power center\" of the Marvel universe? \n",
    "Obtain the mutual connections amongst the top $N_0=20$ characters **by their degree** (computed above). \n",
    "* How many edges are there between these characters?\n",
    "* Are these characters all connected, or do the Marvel network break into several pieces if we only look at the top characters? \n",
    "* Do the set of top characters change if we look at the *directed graph* instead?"
   ]
  },
  {
   "cell_type": "code",
   "execution_count": 39,
   "id": "ebee3130",
   "metadata": {},
   "outputs": [],
   "source": [
    "# put your code here \n",
    "degree_tuple = sorted(hero_graph.degree(), key=lambda x: x[1], reverse=True)\n",
    "degree_tuple[:20]\n"
   ]
  },
  {
   "cell_type": "markdown",
   "id": "7b506370",
   "metadata": {},
   "source": [
    "## Question 5 Transitivity and clustering\n",
    "\n",
    "\n",
    "* Compute the transitivity of the whole marvel hero graph. \n",
    "* Compute the clustering coefficients of each node, examine the nodes with the top clustering coefficient, and also the clustering coefficients of the top nodes (by degree) \n",
    "* Do the above for the topK subgraph. \n",
    "  * Compared to the whole graph, are the transitivity and clustering coefficients larger or smaller? why? "
   ]
  },
  {
   "cell_type": "code",
   "execution_count": null,
   "id": "3a4c365f",
   "metadata": {},
   "outputs": [],
   "source": [
    "# put your code here "
   ]
  },
  {
   "cell_type": "markdown",
   "id": "08ed7281",
   "metadata": {},
   "source": [
    "## Question 6 Weighted network\n",
    "\n",
    "One possible interpretation for the duplicated edges is that the data is collected over different comic issues / films, and characters appearing together across different publications will have their edges represented multiple times. \n",
    "\n",
    "* Now generate a weighted network using `raw_data` read from csv above. \n"
   ]
  },
  {
   "cell_type": "code",
   "execution_count": null,
   "id": "5bcd0d15",
   "metadata": {},
   "outputs": [],
   "source": [
    "# put your code here "
   ]
  },
  {
   "cell_type": "markdown",
   "id": "629b8f76",
   "metadata": {},
   "source": [
    "* What is the maximum weight of an edge in the entire Marvel network, between which two heroes? \n",
    "* Does the top K=50 network get more interesting using weighted edges? What is the degree distribution like for the topK network?"
   ]
  },
  {
   "cell_type": "code",
   "execution_count": null,
   "id": "d6675251",
   "metadata": {},
   "outputs": [],
   "source": [
    "# put your code here"
   ]
  },
  {
   "cell_type": "markdown",
   "id": "bf4c0ea7",
   "metadata": {},
   "source": [
    "## Question 7 Your own network question\n",
    "\n",
    "What computational question do you want to ask about the Marvel network? \n",
    "Try asking one that can be answered by running some algorithm over it. "
   ]
  },
  {
   "cell_type": "code",
   "execution_count": null,
   "id": "829ce1b4",
   "metadata": {},
   "outputs": [],
   "source": []
  }
 ],
 "metadata": {
  "kernelspec": {
   "display_name": "Python 3 (ipykernel)",
   "language": "python",
   "name": "python3"
  },
  "language_info": {
   "codemirror_mode": {
    "name": "ipython",
    "version": 3
   },
   "file_extension": ".py",
   "mimetype": "text/x-python",
   "name": "python",
   "nbconvert_exporter": "python",
   "pygments_lexer": "ipython3",
   "version": "3.9.13"
  }
 },
 "nbformat": 4,
 "nbformat_minor": 5
}
