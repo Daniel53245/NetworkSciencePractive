{
 "cells": [
  {
   "cell_type": "code",
   "execution_count": 1,
   "id": "4f415a84",
   "metadata": {},
   "outputs": [],
   "source": [
    "import csv\n",
    "import networkx as nx\n",
    "import matplotlib.pyplot as plt\n",
    "import numpy as np\n",
    "from datetime import datetime\n",
    "\n",
    "%matplotlib inline\n"
   ]
  },
  {
   "cell_type": "code",
   "execution_count": 2,
   "id": "af67a856",
   "metadata": {},
   "outputs": [
    {
     "name": "stdout",
     "output_type": "stream",
     "text": [
      "total number nodes and edges 77 254\n",
      "average number of edges per node 3.2987012987012987\n",
      "density of the Les Miserables social network 0.08680792891319207\n"
     ]
    }
   ],
   "source": [
    "# load a network of co-occurrences of the characters in Les Miserables by Victor Hugo\n",
    "# See the following two pages about the history and potential issues of Knuth's original version of the dataset\n",
    "# https://github.com/MADStudioNU/lesmiserables-character-network\n",
    "# https://www-cs-faculty.stanford.edu/~knuth/sgb.html\n",
    "lesmis_graph = nx.les_miserables_graph()\n",
    "\n",
    "# print some basic network quantities so that we get a basic understading of this data\n",
    "print('total number nodes and edges', lesmis_graph.number_of_nodes(), lesmis_graph.number_of_edges() ) \n",
    "print ('average number of edges per node', lesmis_graph.number_of_edges()/lesmis_graph.number_of_nodes())\n",
    "print ('density of the Les Miserables social network', nx.density(lesmis_graph))\n",
    "\n",
    "# the wikipedia page of Les Mis contains descriptions of the storyline, main characters\n",
    "# and its overall significance\n",
    "# https://en.wikipedia.org/wiki/Les_Mis%C3%A9rables"
   ]
  },
  {
   "cell_type": "code",
   "execution_count": 3,
   "id": "6777be91",
   "metadata": {},
   "outputs": [],
   "source": [
    "### Marvel Hero data\n",
    "# home page for the data http://syntagmatic.github.io/exposedata/marvel/\n",
    "\n",
    "# borrowing functions and processing from here \n",
    "# https://medium.com/@jmandalihan.msds2023/exploring-the-marvel-universe-through-network-analysis-a-starters-guide-88eb40e85c47\n",
    "# Load data from the CSV file\n",
    "\n",
    "def load_data_from_csv(file_path):\n",
    "    data = []\n",
    "    with open(file_path, newline='') as csvfile:\n",
    "        reader = csv.reader(csvfile)\n",
    "        next(reader)  # Skip the header row\n",
    "        for row in reader:\n",
    "            data.append((row[0], row[1]))\n",
    "    return data\n"
   ]
  },
  {
   "cell_type": "code",
   "execution_count": 5,
   "id": "e885c118",
   "metadata": {},
   "outputs": [
    {
     "data": {
      "text/plain": [
       "574466"
      ]
     },
     "execution_count": 5,
     "metadata": {},
     "output_type": "execute_result"
    }
   ],
   "source": [
    "\n",
    "\n",
    "# download this file http://syntagmatic.github.io/exposedata/marvel/data/hero-network.csv\n",
    "# CHANGE THE NEXT LINE TO YOUR FILE PATH\n",
    "marvel_hero_file = './hero-network.csv'\n",
    "raw_data = load_data_from_csv(marvel_hero_file)\n",
    "\n",
    "len(raw_data)"
   ]
  },
  {
   "cell_type": "code",
   "execution_count": 6,
   "id": "c711a31a",
   "metadata": {},
   "outputs": [
    {
     "name": "stdout",
     "output_type": "stream",
     "text": [
      "total number nodes and edges 6426 167219\n",
      "average number of edges per node 26.022253345782758\n",
      "density of the Hero social network 0.00810031232553549\n"
     ]
    }
   ],
   "source": [
    "# Create a directed graph\n",
    "hero_graph = nx.Graph()\n",
    "\n",
    "# Add edges from the dataset\n",
    "for edge in raw_data:\n",
    "    hero_graph.add_edge(edge[0], edge[1])\n",
    "    \n",
    "print('total number nodes and edges', hero_graph.number_of_nodes(), hero_graph.number_of_edges() ) \n",
    "print ('average number of edges per node', hero_graph.number_of_edges()/hero_graph.number_of_nodes())\n",
    "print ('density of the Hero social network', nx.density(hero_graph))\n"
   ]
  },
  {
   "cell_type": "code",
   "execution_count": 7,
   "id": "8ae94302",
   "metadata": {},
   "outputs": [
    {
     "name": "stdout",
     "output_type": "stream",
     "text": [
      "[('Valjean', 36), ('Gavroche', 22), ('Marius', 19), ('Javert', 17), ('Thenardier', 16), ('Fantine', 15), ('Enjolras', 15), ('Courfeyrac', 13), ('Bossuet', 13), ('Bahorel', 12), ('Joly', 12), ('MmeThenardier', 11), ('Cosette', 11), ('Eponine', 11), ('Mabeuf', 11)]\n",
      "[('CAPTAIN AMERICA', 1908), ('SPIDER-MAN/PETER PAR', 1737), ('IRON MAN/TONY STARK ', 1522), ('THING/BENJAMIN J. GR', 1416), ('MR. FANTASTIC/REED R', 1379), ('WOLVERINE/LOGAN ', 1371), ('HUMAN TORCH/JOHNNY S', 1361), ('SCARLET WITCH/WANDA ', 1325), ('THOR/DR. DONALD BLAK', 1289), ('BEAST/HENRY &HANK& P', 1267), ('VISION ', 1241), ('INVISIBLE WOMAN/SUE ', 1236), ('HAWK', 1175), ('WASP/JANET VAN DYNE ', 1091), ('ANT-MAN/DR. HENRY J.', 1082)]\n"
     ]
    }
   ],
   "source": [
    "# Who are the most connected nodes? does this list surprise you for either network\n",
    "\n",
    "lesmis_degree_tuple = sorted(lesmis_graph.degree(), key=lambda x: x[1], reverse=True)\n",
    "print(lesmis_degree_tuple[:15])\n",
    "\n",
    "hero_degree_tuple = sorted(hero_graph.degree(), key=lambda x: x[1], reverse=True)\n",
    "print(hero_degree_tuple[:15])"
   ]
  },
  {
   "cell_type": "markdown",
   "id": "69b3c5ec",
   "metadata": {},
   "source": [
    "## Question 1. Find the most *central* nodes\n",
    "\n",
    "The code snippet above finds nodes with the largest degree centrality in our two networks. \n",
    "\n",
    "Can you find the top nodes by betweenness and closeness centrality, and computer how many of the topK nodes overlap using these different centrality measures. \n",
    "\n",
    "Hint: you may want to try question 2 first to get an idea about the amount of computation required for this question. "
   ]
  },
  {
   "cell_type": "code",
   "execution_count": 8,
   "id": "59fea0e2",
   "metadata": {},
   "outputs": [],
   "source": [
    "## put your code here \n"
   ]
  },
  {
   "cell_type": "markdown",
   "id": "d9225731",
   "metadata": {},
   "source": [
    "## Question 2. Radius and diameter\n",
    "\n",
    "Write code to compute the radius and diameter metric of the two networks, and answer the following questions. \n",
    "\n",
    "* Why do we need to first find the connected components of the network?\n",
    "* What is the computational complexity of such computation (in terms of number of nodes N, or number of edges E)"
   ]
  },
  {
   "cell_type": "code",
   "execution_count": 9,
   "id": "8875e1c6",
   "metadata": {},
   "outputs": [
    {
     "name": "stdout",
     "output_type": "stream",
     "text": [
      "[77]\n"
     ]
    },
    {
     "data": {
      "text/plain": [
       "[6408, 9, 7, 2]"
      ]
     },
     "execution_count": 9,
     "metadata": {},
     "output_type": "execute_result"
    }
   ],
   "source": [
    "## find the connected components of both graphs\n",
    "## ?? Why do we need to do this first ?\n",
    "lesmis_components = [lesmis_graph.subgraph(c).copy() for c in nx.connected_components(lesmis_graph)] \n",
    "print ([len(c) for c in sorted(lesmis_components, key=len, reverse=True)])\n",
    "\n",
    "\n",
    "hero_components = [hero_graph.subgraph(c).copy() for c in nx.connected_components(hero_graph)] \n",
    "[len(c) for c in sorted(hero_components, key=len, reverse=True)]\n"
   ]
  },
  {
   "cell_type": "code",
   "execution_count": 10,
   "id": "4a65a42c",
   "metadata": {},
   "outputs": [
    {
     "name": "stdout",
     "output_type": "stream",
     "text": [
      "COMPUTING the radius and diameter of the LesMis graph\n",
      "2024-02-24 02:31:09.398160 execution time: 0:00:00.010971\n"
     ]
    }
   ],
   "source": [
    "print(\"COMPUTING the radius and diameter of the LesMis graph\" )\n",
    "start_time = datetime.now()\n",
    "\n",
    "nx.radius(lesmis_components[0])\n",
    "nx.diameter(lesmis_components[0])\n",
    "\n",
    "cur_time = datetime.now()\n",
    "print(\"%s execution time: %s\" % (cur_time, cur_time - start_time) )"
   ]
  },
  {
   "cell_type": "code",
   "execution_count": null,
   "id": "0b50e44a",
   "metadata": {},
   "outputs": [],
   "source": [
    "start_time = datetime.now()\n",
    "\n",
    "### Now compute the radius and diameter of the large marvel hero graph \n",
    "## this will be somewhat time-consuming, we suggest computing one of these metrics first ## ## ## \n",
    "\"\"\"\n",
    "   put your code here \n",
    "\"\"\"\n",
    "\n",
    "\n",
    "cur_time = datetime.now()\n",
    "print(\"%s execution time: %s\" % (cur_time, cur_time - start_time) )"
   ]
  },
  {
   "cell_type": "markdown",
   "id": "b1524561",
   "metadata": {},
   "source": [
    "## Question 3 G(n, p) \n",
    "\n",
    "Generate Erdos-Reyni graphs of the same size and density as the LesMis and Marvel networks\n",
    "\n",
    "* Compute their clustering coefficients, centrality and path metrics mentioned above\n",
    "* Compare with those of the LesMis and Marvel networks\n",
    "\n",
    "What do you expect the clustering, centrality and path metrics to be (and why)?\n",
    "When we work with large networks, it is important to form our own hypothesis (from theoretical understandings, and from domain knowledge) and then compare it with empirical observations. When they don't agree, one should ask whether our code is wrong, the domain knowledge being inaccurate, or if there are knowledge missing. "
   ]
  },
  {
   "cell_type": "code",
   "execution_count": null,
   "id": "d3e2fcf5",
   "metadata": {},
   "outputs": [],
   "source": [
    "\"\"\"\n",
    "   put your code here \n",
    "\"\"\""
   ]
  },
  {
   "cell_type": "markdown",
   "id": "a0e0ff96",
   "metadata": {},
   "source": [
    "## Question 4  degree distribution\n",
    "\n",
    "Plot the degree distribution of LesMis, Marvel and the two generated networks. \n",
    "\n",
    "(0) What do you expect these distributions to look like? (sketch these distributions)\n",
    "(1) What are your key observations for these distributions?\n",
    "(2) Do you have to change the axis on which these distributions are plotted? does making the axis log-scale changes your observation or what can be seen from the plot? Does changing the plot from a pdf to a cdf (or ccdf) plot changes what can be observed? \n",
    "\n",
    "Discuss the observed differences and the reason why it is so.  "
   ]
  },
  {
   "cell_type": "code",
   "execution_count": null,
   "id": "2f46888e",
   "metadata": {},
   "outputs": [],
   "source": [
    "# put your code here"
   ]
  },
  {
   "cell_type": "code",
   "execution_count": null,
   "id": "01b7bb79",
   "metadata": {},
   "outputs": [],
   "source": []
  }
 ],
 "metadata": {
  "kernelspec": {
   "display_name": "Python 3 (ipykernel)",
   "language": "python",
   "name": "python3"
  },
  "language_info": {
   "codemirror_mode": {
    "name": "ipython",
    "version": 3
   },
   "file_extension": ".py",
   "mimetype": "text/x-python",
   "name": "python",
   "nbconvert_exporter": "python",
   "pygments_lexer": "ipython3",
   "version": "3.8.12"
  }
 },
 "nbformat": 4,
 "nbformat_minor": 5
}
